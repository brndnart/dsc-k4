{
 "cells": [
  {
   "cell_type": "code",
   "execution_count": 1,
   "id": "9f493469",
   "metadata": {},
   "outputs": [],
   "source": [
    "import pandas as pd"
   ]
  },
  {
   "cell_type": "code",
   "execution_count": 2,
   "id": "51bd5f10",
   "metadata": {},
   "outputs": [],
   "source": [
    "df = pd.read_csv(\"../data/train.csv\", index_col=0)"
   ]
  },
  {
   "cell_type": "code",
   "execution_count": 3,
   "id": "057537c4",
   "metadata": {},
   "outputs": [
    {
     "data": {
      "text/html": [
       "<div>\n",
       "<style scoped>\n",
       "    .dataframe tbody tr th:only-of-type {\n",
       "        vertical-align: middle;\n",
       "    }\n",
       "\n",
       "    .dataframe tbody tr th {\n",
       "        vertical-align: top;\n",
       "    }\n",
       "\n",
       "    .dataframe thead th {\n",
       "        text-align: right;\n",
       "    }\n",
       "</style>\n",
       "<table border=\"1\" class=\"dataframe\">\n",
       "  <thead>\n",
       "    <tr style=\"text-align: right;\">\n",
       "      <th></th>\n",
       "      <th>text</th>\n",
       "      <th>label</th>\n",
       "    </tr>\n",
       "  </thead>\n",
       "  <tbody>\n",
       "    <tr>\n",
       "      <th>0</th>\n",
       "      <td>warung ini dimiliki oleh pengusaha pabrik tahu...</td>\n",
       "      <td>positive</td>\n",
       "    </tr>\n",
       "    <tr>\n",
       "      <th>1</th>\n",
       "      <td>mohon ulama lurus dan k212 mmbri hujjah partai...</td>\n",
       "      <td>neutral</td>\n",
       "    </tr>\n",
       "    <tr>\n",
       "      <th>2</th>\n",
       "      <td>lokasi strategis di jalan sumatera bandung . t...</td>\n",
       "      <td>positive</td>\n",
       "    </tr>\n",
       "    <tr>\n",
       "      <th>3</th>\n",
       "      <td>betapa bahagia nya diri ini saat unboxing pake...</td>\n",
       "      <td>positive</td>\n",
       "    </tr>\n",
       "    <tr>\n",
       "      <th>4</th>\n",
       "      <td>duh . jadi mahasiswa jangan sombong dong . kas...</td>\n",
       "      <td>negative</td>\n",
       "    </tr>\n",
       "  </tbody>\n",
       "</table>\n",
       "</div>"
      ],
      "text/plain": [
       "                                                text     label\n",
       "0  warung ini dimiliki oleh pengusaha pabrik tahu...  positive\n",
       "1  mohon ulama lurus dan k212 mmbri hujjah partai...   neutral\n",
       "2  lokasi strategis di jalan sumatera bandung . t...  positive\n",
       "3  betapa bahagia nya diri ini saat unboxing pake...  positive\n",
       "4  duh . jadi mahasiswa jangan sombong dong . kas...  negative"
      ]
     },
     "execution_count": 3,
     "metadata": {},
     "output_type": "execute_result"
    }
   ],
   "source": [
    "df.head()"
   ]
  },
  {
   "cell_type": "code",
   "execution_count": 4,
   "id": "28f34616",
   "metadata": {},
   "outputs": [
    {
     "data": {
      "text/plain": [
       "(10933, 2)"
      ]
     },
     "execution_count": 4,
     "metadata": {},
     "output_type": "execute_result"
    }
   ],
   "source": [
    "df.shape"
   ]
  },
  {
   "cell_type": "code",
   "execution_count": 5,
   "id": "8e44de37",
   "metadata": {},
   "outputs": [
    {
     "data": {
      "text/plain": [
       "positive    6383\n",
       "negative    3412\n",
       "neutral     1138\n",
       "Name: label, dtype: int64"
      ]
     },
     "execution_count": 5,
     "metadata": {},
     "output_type": "execute_result"
    }
   ],
   "source": [
    "df.label.value_counts()"
   ]
  },
  {
   "cell_type": "code",
   "execution_count": 6,
   "id": "83552160",
   "metadata": {},
   "outputs": [
    {
     "data": {
      "text/plain": [
       "0        warung ini dimiliki oleh pengusaha pabrik tahu...\n",
       "1        mohon ulama lurus dan k212 mmbri hujjah partai...\n",
       "2        lokasi strategis di jalan sumatera bandung tem...\n",
       "3        betapa bahagia nya diri ini saat unboxing pake...\n",
       "4        duh jadi mahasiswa jangan sombong dong kasih k...\n",
       "                               ...                        \n",
       "10993    f demokrat dorong upaya kemandirian energi nas...\n",
       "10994                                          tidak bosan\n",
       "10996    enak rasa masakan nya apalagi kepiting yang me...\n",
       "10998    pagi pagi di tol pasteur sudah macet parah bik...\n",
       "10999    meskipun sering belanja ke yogya di riau junct...\n",
       "Name: text_clean, Length: 10933, dtype: object"
      ]
     },
     "execution_count": 6,
     "metadata": {},
     "output_type": "execute_result"
    }
   ],
   "source": [
    "import re\n",
    "\n",
    "def cleansing(text):\n",
    "    text = text.lower()\n",
    "    text = re.sub(r\"[^a-zA-Z0-9]+\", \" \", text).strip()    \n",
    "    \n",
    "    return text\n",
    "\n",
    "df[\"text_clean\"] = df.text.apply(cleansing)\n",
    "\n",
    "df.text_clean"
   ]
  },
  {
   "cell_type": "code",
   "execution_count": 7,
   "id": "2b4d2cae",
   "metadata": {},
   "outputs": [
    {
     "name": "stdout",
     "output_type": "stream",
     "text": [
      "Pos: 6383, Neu: 1138, Neg: 3412\n",
      "Total data: 10933\n"
     ]
    }
   ],
   "source": [
    "neg = df.loc[df[\"label\"] == \"negative\"].text_clean.to_list()\n",
    "neu = df.loc[df[\"label\"] == \"neutral\"].text_clean.to_list()\n",
    "pos = df.loc[df[\"label\"] == \"positive\"].text_clean.to_list()\n",
    "\n",
    "neg_label = df.loc[df[\"label\"] == \"negative\"].label.to_list()\n",
    "neu_label = df.loc[df[\"label\"] == \"neutral\"].label.to_list()\n",
    "pos_label = df.loc[df[\"label\"] == \"positive\"].label.to_list()\n",
    "\n",
    "total_data = pos + neu + neg\n",
    "labels = pos_label + neu_label + neg_label\n",
    "\n",
    "print(\"Pos: %s, Neu: %s, Neg: %s\" % (len(pos), len(neu), len(neg)))\n",
    "print(\"Total data: %s\" % len(total_data))"
   ]
  },
  {
   "cell_type": "code",
   "execution_count": 8,
   "id": "8f552966",
   "metadata": {},
   "outputs": [
    {
     "name": "stdout",
     "output_type": "stream",
     "text": [
      "tokenizer.pickle has created\n",
      "x_pad_sequences.pickle has created\n"
     ]
    }
   ],
   "source": [
    "import pickle\n",
    "from tensorflow.keras.preprocessing.text import Tokenizer\n",
    "from tensorflow.keras.preprocessing.sequence import pad_sequences\n",
    "from collections import defaultdict\n",
    "\n",
    "max_features = 100000\n",
    "tokenizer = Tokenizer(num_words=max_features, split=\" \", lower=True)\n",
    "tokenizer.fit_on_texts(total_data)\n",
    "\n",
    "with open(\"../lstm/tokenizer.pickle\", \"wb\") as handle:\n",
    "    pickle.dump(tokenizer, handle, protocol=pickle.HIGHEST_PROTOCOL)\n",
    "    print(\"tokenizer.pickle has created\")\n",
    "    \n",
    "X = tokenizer.texts_to_sequences(total_data)\n",
    "\n",
    "vocab_size = len(tokenizer.word_index)\n",
    "maxlen = max(len(x) for x in X)\n",
    "\n",
    "X = pad_sequences(X)\n",
    "with open(\"../lstm/x_pad_sequences.pickle\", \"wb\") as handle:\n",
    "    pickle.dump(X, handle, protocol=pickle.HIGHEST_PROTOCOL)\n",
    "    print(\"x_pad_sequences.pickle has created\")"
   ]
  },
  {
   "cell_type": "code",
   "execution_count": 9,
   "id": "a2a1fcf6",
   "metadata": {},
   "outputs": [
    {
     "name": "stdout",
     "output_type": "stream",
     "text": [
      "y_labels.pickle has created\n"
     ]
    }
   ],
   "source": [
    "Y = pd.get_dummies(labels)\n",
    "Y = Y.values\n",
    "\n",
    "with open(\"../lstm/y_labels.pickle\", \"wb\") as handle:\n",
    "    pickle.dump(Y, handle, protocol=pickle.HIGHEST_PROTOCOL)\n",
    "    print(\"y_labels.pickle has created\")"
   ]
  },
  {
   "cell_type": "code",
   "execution_count": 10,
   "id": "d0ba18a9",
   "metadata": {},
   "outputs": [],
   "source": [
    "from sklearn.model_selection import train_test_split\n",
    "\n",
    "file = open(\"../lstm/x_pad_sequences.pickle\", \"rb\")\n",
    "X = pickle.load(file)\n",
    "file.close()\n",
    "\n",
    "file = open(\"../lstm/y_labels.pickle\", \"rb\")\n",
    "Y = pickle.load(file)\n",
    "file.close()\n",
    "\n",
    "X_train, X_test, y_train, y_test = train_test_split(X, Y, test_size=0.2, random_state=1)"
   ]
  },
  {
   "cell_type": "code",
   "execution_count": 11,
   "id": "e69cc6cf",
   "metadata": {},
   "outputs": [
    {
     "name": "stdout",
     "output_type": "stream",
     "text": [
      "Model: \"sequential\"\n",
      "_________________________________________________________________\n",
      " Layer (type)                Output Shape              Param #   \n",
      "=================================================================\n",
      " embedding (Embedding)       (None, 96, 100)           10000000  \n",
      "                                                                 \n",
      " lstm (LSTM)                 (None, 64)                42240     \n",
      "                                                                 \n",
      " dense (Dense)               (None, 3)                 195       \n",
      "                                                                 \n",
      "=================================================================\n",
      "Total params: 10,042,435\n",
      "Trainable params: 10,042,435\n",
      "Non-trainable params: 0\n",
      "_________________________________________________________________\n",
      "None\n",
      "Epoch 1/10\n",
      "875/875 [==============================] - 202s 225ms/step - loss: 0.4558 - accuracy: 0.8179 - val_loss: 0.3688 - val_accuracy: 0.8697\n",
      "Epoch 2/10\n",
      "875/875 [==============================] - 202s 231ms/step - loss: 0.1950 - accuracy: 0.9282 - val_loss: 0.3319 - val_accuracy: 0.8820\n",
      "Epoch 3/10\n",
      "875/875 [==============================] - 201s 230ms/step - loss: 0.0991 - accuracy: 0.9608 - val_loss: 0.4252 - val_accuracy: 0.8738\n",
      "Epoch 3: early stopping\n"
     ]
    }
   ],
   "source": [
    "import numpy as np\n",
    "from tensorflow.keras import layers\n",
    "from tensorflow.keras.models import Sequential\n",
    "from tensorflow.keras.layers import Dense, Embedding, LSTM, SpatialDropout1D, SimpleRNN, Activation, Flatten\n",
    "from tensorflow.keras import optimizers, backend as K\n",
    "from tensorflow.keras.callbacks import EarlyStopping, TensorBoard\n",
    "\n",
    "embed_dim = 100\n",
    "units = 64\n",
    "\n",
    "model = Sequential()\n",
    "model.add(Embedding(max_features, embed_dim, input_length=X.shape[1]))\n",
    "model.add(LSTM(units, dropout=0.2))\n",
    "model.add(Dense(3, activation=\"softmax\"))\n",
    "model.compile(loss=\"binary_crossentropy\", optimizer=\"adam\", metrics=[\"accuracy\"])\n",
    "print(model.summary())\n",
    "\n",
    "adam = optimizers.Adam(learning_rate=0.001)\n",
    "model.compile(loss=\"categorical_crossentropy\", optimizer=adam, metrics=[\"accuracy\"])\n",
    "\n",
    "es = EarlyStopping(monitor=\"val_loss\", mode=\"min\", verbose=1)\n",
    "history = model.fit(X_train, y_train, epochs=10, batch_size=10, validation_data=(X_test, y_test), verbose=1, callbacks=[es])"
   ]
  },
  {
   "cell_type": "code",
   "execution_count": 12,
   "id": "5baae5c0",
   "metadata": {},
   "outputs": [
    {
     "name": "stdout",
     "output_type": "stream",
     "text": [
      "69/69 [==============================] - 3s 27ms/step\n",
      "Testing selesai\n",
      "              precision    recall  f1-score   support\n",
      "\n",
      "           0       0.82      0.82      0.82       668\n",
      "           1       0.82      0.76      0.79       231\n",
      "           2       0.91      0.92      0.92      1288\n",
      "\n",
      "    accuracy                           0.87      2187\n",
      "   macro avg       0.85      0.83      0.84      2187\n",
      "weighted avg       0.87      0.87      0.87      2187\n",
      "\n"
     ]
    }
   ],
   "source": [
    "from sklearn import metrics\n",
    "\n",
    "predictions = model.predict(X_test)\n",
    "y_pred = predictions\n",
    "matrix_test = metrics.classification_report(y_test.argmax(axis=1), y_pred.argmax(axis=1))\n",
    "print(\"Testing selesai\")\n",
    "print(matrix_test)"
   ]
  },
  {
   "cell_type": "code",
   "execution_count": 13,
   "id": "b084d7a5",
   "metadata": {},
   "outputs": [
    {
     "name": "stdout",
     "output_type": "stream",
     "text": [
      "69/69 [==============================] - 3s 28ms/step\n",
      "Training ke- 1\n",
      "              precision    recall  f1-score   support\n",
      "\n",
      "           0       0.81      0.88      0.84       668\n",
      "           1       0.88      0.75      0.81       231\n",
      "           2       0.94      0.92      0.93      1288\n",
      "\n",
      "    accuracy                           0.89      2187\n",
      "   macro avg       0.88      0.85      0.86      2187\n",
      "weighted avg       0.89      0.89      0.89      2187\n",
      "\n",
      "======================================================\n",
      "69/69 [==============================] - 3s 28ms/step\n",
      "Training ke- 2\n",
      "              precision    recall  f1-score   support\n",
      "\n",
      "           0       0.85      0.76      0.80       668\n",
      "           1       0.85      0.73      0.79       231\n",
      "           2       0.88      0.95      0.91      1288\n",
      "\n",
      "    accuracy                           0.87      2187\n",
      "   macro avg       0.86      0.81      0.83      2187\n",
      "weighted avg       0.87      0.87      0.87      2187\n",
      "\n",
      "======================================================\n",
      "69/69 [==============================] - 3s 26ms/step\n",
      "Training ke- 3\n",
      "              precision    recall  f1-score   support\n",
      "\n",
      "           0       0.85      0.80      0.82       668\n",
      "           1       0.86      0.74      0.79       231\n",
      "           2       0.90      0.95      0.92      1288\n",
      "\n",
      "    accuracy                           0.88      2187\n",
      "   macro avg       0.87      0.83      0.85      2187\n",
      "weighted avg       0.88      0.88      0.88      2187\n",
      "\n",
      "======================================================\n",
      "69/69 [==============================] - 3s 26ms/step\n",
      "Training ke- 4\n",
      "              precision    recall  f1-score   support\n",
      "\n",
      "           0       0.83      0.84      0.84       668\n",
      "           1       0.81      0.77      0.79       231\n",
      "           2       0.92      0.93      0.93      1288\n",
      "\n",
      "    accuracy                           0.88      2187\n",
      "   macro avg       0.85      0.85      0.85      2187\n",
      "weighted avg       0.88      0.88      0.88      2187\n",
      "\n",
      "======================================================\n",
      "69/69 [==============================] - 3s 25ms/step\n",
      "Training ke- 5\n",
      "              precision    recall  f1-score   support\n",
      "\n",
      "           0       0.83      0.85      0.84       668\n",
      "           1       0.82      0.81      0.82       231\n",
      "           2       0.93      0.93      0.93      1288\n",
      "\n",
      "    accuracy                           0.89      2187\n",
      "   macro avg       0.86      0.86      0.86      2187\n",
      "weighted avg       0.89      0.89      0.89      2187\n",
      "\n",
      "======================================================\n",
      "\n",
      "\n",
      "\n",
      "Rata-rata accuracy: 0.8824874256973022\n"
     ]
    }
   ],
   "source": [
    "from sklearn.metrics import classification_report\n",
    "from sklearn.metrics import accuracy_score\n",
    "from sklearn.model_selection import KFold\n",
    "from keras.utils import to_categorical\n",
    "\n",
    "kf = KFold(n_splits=5, random_state=42, shuffle=True)\n",
    "accuracies = []\n",
    "y = to_categorical(np.array(Y)[:len(X)])\n",
    "embed_dim = 100\n",
    "units = 64\n",
    "\n",
    "for iteration, data in enumerate(kf.split(X), start=1):\n",
    "    \n",
    "    data_train = X[data[0]]\n",
    "    target_train = y[data[0]]\n",
    "    \n",
    "    data_test = X[data[1]]\n",
    "    target_test = y[data[1]]\n",
    "    \n",
    "    model = Sequential()\n",
    "    model.add(Embedding(max_features, embed_dim, input_length=X.shape[1]))\n",
    "    model.add(LSTM(units, dropout=0.2))\n",
    "    model.add(Dense(3, activation=\"softmax\"))\n",
    "    model.compile(loss=\"binary_crossentropy\", optimizer=\"adam\", metrics=[\"accuracy\"])\n",
    "    \n",
    "    adam = optimizers.Adam(learning_rate=0.001)\n",
    "    model.compile(loss=\"categorical_crossentropy\", optimizer=adam, metrics=[\"accuracy\"])\n",
    "    \n",
    "    es = EarlyStopping(monitor=\"val_loss\", mode=\"min\", verbose=0)\n",
    "    history = model.fit(X_train, y_train, epochs=10, batch_size=10, validation_data=(X_test, y_test), verbose=0, callbacks=[es])\n",
    "    \n",
    "    predictions = model.predict(X_test)\n",
    "    y_pred = np.argmax(predictions, axis=1)\n",
    "    \n",
    "    accuracy = accuracy_score(np.argmax(y_test, axis=1), y_pred)\n",
    "    \n",
    "    print(\"Training ke-\", iteration)\n",
    "    print(classification_report(np.argmax(y_test, axis=1), y_pred))\n",
    "    print(\"======================================================\")\n",
    "    \n",
    "    accuracies.append(accuracy)\n",
    "\n",
    "average_accuracy = np.mean(accuracies)\n",
    "\n",
    "print()\n",
    "print()\n",
    "print()\n",
    "print(\"Rata-rata accuracy:\", average_accuracy)"
   ]
  },
  {
   "cell_type": "code",
   "execution_count": 14,
   "id": "2f34c8c4",
   "metadata": {},
   "outputs": [
    {
     "data": {
      "image/png": "[encoded data removed]",
      "text/plain": [
       "<Figure size 1200x500 with 2 Axes>"
      ]
     },
     "metadata": {},
     "output_type": "display_data"
    }
   ],
   "source": [
    "import matplotlib.pyplot as plt\n",
    "plt.style.use(\"ggplot\")\n",
    "\n",
    "def plot_history(history):\n",
    "    acc = history.history[\"accuracy\"]\n",
    "    val_acc = history.history[\"val_accuracy\"]\n",
    "    loss = history.history[\"loss\"]\n",
    "    val_loss = history.history[\"val_loss\"]\n",
    "    x = range(1, len(acc) + 1)\n",
    "    \n",
    "    plt.figure(figsize=(12, 5))\n",
    "    plt.subplot(1, 2, 1)\n",
    "    plt.plot(x, acc, \"b\", label=\"Training acc\")\n",
    "    plt.plot(x, val_acc, \"r\", label=\"Validation acc\")\n",
    "    plt.title(\"Training and Validation accuracy\")\n",
    "    plt.legend()\n",
    "    plt.subplot(1, 2, 2)\n",
    "    plt.plot(x, loss, \"b\", label=\"Training loss\")\n",
    "    plt.plot(x, val_loss, \"r\", label=\"Validation loss\")\n",
    "    plt.title(\"Training and Validation loss\")\n",
    "    plt.legend()\n",
    "    \n",
    "%matplotlib inline\n",
    "plot_history(history)"
   ]
  },
  {
   "cell_type": "code",
   "execution_count": 15,
   "id": "b9df2e3d",
   "metadata": {},
   "outputs": [
    {
     "name": "stdout",
     "output_type": "stream",
     "text": [
      "Model has created\n"
     ]
    }
   ],
   "source": [
    "model.save(\"../lstm/model.h5\")\n",
    "print(\"Model has created\")"
   ]
  },
  {
   "cell_type": "code",
   "execution_count": 18,
   "id": "ad5e4374",
   "metadata": {},
   "outputs": [
    {
     "name": "stdout",
     "output_type": "stream",
     "text": [
      "1/1 [==============================] - 1s 968ms/step\n",
      "Text: sedih banget \n",
      "Sentiment: negative\n"
     ]
    }
   ],
   "source": [
    "from keras.models import load_model\n",
    "\n",
    "def cleansing(text):\n",
    "    text = re.sub(r\"[^a-zA-Z0-9]\", \" \", text) \n",
    "    return text\n",
    "\n",
    "prompt = \"sedih banget.\"\n",
    "\n",
    "sentiment = [\"negative\", \"neutral\", \"positive\"]\n",
    "\n",
    "text = [cleansing(prompt)]\n",
    "predicted = tokenizer.texts_to_sequences(text)\n",
    "guess = pad_sequences(predicted, maxlen=X.shape[1])\n",
    "\n",
    "model = load_model(\"../lstm/model.h5\")\n",
    "prediction = model.predict(guess)\n",
    "polarity = np.argmax(prediction[0])\n",
    "\n",
    "print(\"Text:\", text[0])\n",
    "print(\"Sentiment:\", sentiment[polarity])"
   ]
  }
 ],
 "metadata": {
  "kernelspec": {
   "display_name": "Python 3 (ipykernel)",
   "language": "python",
   "name": "python3"
  },
  "language_info": {
   "codemirror_mode": {
    "name": "ipython",
    "version": 3
   },
   "file_extension": ".py",
   "mimetype": "text/x-python",
   "name": "python",
   "nbconvert_exporter": "python",
   "pygments_lexer": "ipython3",
   "version": "3.11.2"
  }
 },
 "nbformat": 4,
 "nbformat_minor": 5
}
